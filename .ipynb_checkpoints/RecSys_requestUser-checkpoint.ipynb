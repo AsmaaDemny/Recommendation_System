{
 "cells": [
  {
   "cell_type": "markdown",
   "metadata": {},
   "source": [
    "# Recommender System - User request"
   ]
  },
  {
   "cell_type": "markdown",
   "metadata": {},
   "source": [
    "## Libraries"
   ]
  },
  {
   "cell_type": "code",
   "execution_count": 1,
   "metadata": {},
   "outputs": [],
   "source": [
    "from nltk.tokenize import word_tokenize\n",
    "from nltk.corpus import stopwords\n",
    "import xml.etree.ElementTree as ET\n",
    "import pandas as pd\n",
    "import gensim\n",
    "import gensim.downloader as api\n",
    "from gensim.models import Word2Vec\n",
    "import nltk\n",
    "stopwords = nltk.corpus.stopwords.words('english')\n",
    "stopwords.append('&')\n",
    "import operator\n",
    "from nltk.stem import WordNetLemmatizer \n",
    "lemmatizer = WordNetLemmatizer()"
   ]
  },
  {
   "cell_type": "markdown",
   "metadata": {},
   "source": [
    "## Retrieve data "
   ]
  },
  {
   "cell_type": "code",
   "execution_count": 2,
   "metadata": {},
   "outputs": [],
   "source": [
    "tree = ET.parse('/media/macaire/Ubuntu/Master_2/Recommender_systems/Case_Study/enwiki-20210101-pages-articles-multistream12.xml')\n",
    "root = tree.getroot()\n",
    "\n",
    "titles = []\n",
    "texts = []\n",
    "ids = []\n",
    "\n",
    "ns = {'mediawiki': 'http://www.mediawiki.org/xml/export-0.10/'}\n",
    "for child in root.findall('mediawiki:page', ns):\n",
    "    title = child.find('mediawiki:title', ns)\n",
    "    identifier = child.find('mediawiki:id', ns)\n",
    "    titles.append(title.text)\n",
    "    ids.append(identifier.text)\n",
    "    for revision in child.findall('mediawiki:revision', ns):\n",
    "        text_data = revision.find('mediawiki:text', ns)\n",
    "        if text_data != None:\n",
    "            texts.append(text_data.text)\n",
    "        else:\n",
    "            texts.append(None)\n",
    "\n",
    "dataframe = pd.DataFrame(data={'Title': titles, 'ID': ids, 'Text': texts})"
   ]
  },
  {
   "cell_type": "markdown",
   "metadata": {},
   "source": [
    "## Preprocessing the data "
   ]
  },
  {
   "cell_type": "code",
   "execution_count": 3,
   "metadata": {},
   "outputs": [
    {
     "data": {
      "text/html": [
       "<div>\n",
       "<style scoped>\n",
       "    .dataframe tbody tr th:only-of-type {\n",
       "        vertical-align: middle;\n",
       "    }\n",
       "\n",
       "    .dataframe tbody tr th {\n",
       "        vertical-align: top;\n",
       "    }\n",
       "\n",
       "    .dataframe thead th {\n",
       "        text-align: right;\n",
       "    }\n",
       "</style>\n",
       "<table border=\"1\" class=\"dataframe\">\n",
       "  <thead>\n",
       "    <tr style=\"text-align: right;\">\n",
       "      <th></th>\n",
       "      <th>Title</th>\n",
       "      <th>ID</th>\n",
       "      <th>Text</th>\n",
       "    </tr>\n",
       "  </thead>\n",
       "  <tbody>\n",
       "    <tr>\n",
       "      <td>0</td>\n",
       "      <td>Chestnut Ridge Middle School</td>\n",
       "      <td>8554860</td>\n",
       "      <td>#REDIRECT[[Washington Township Public School D...</td>\n",
       "    </tr>\n",
       "    <tr>\n",
       "      <td>1</td>\n",
       "      <td>Colegio de Santa Cruz de Tlatelolco</td>\n",
       "      <td>8554864</td>\n",
       "      <td>{{Infobox university\\n|name              = Col...</td>\n",
       "    </tr>\n",
       "    <tr>\n",
       "      <td>2</td>\n",
       "      <td>Impractical joker (garfield)</td>\n",
       "      <td>8554867</td>\n",
       "      <td>#REDIRECT [[List of Garfield and Friends episo...</td>\n",
       "    </tr>\n",
       "    <tr>\n",
       "      <td>3</td>\n",
       "      <td>National Council of Teachers</td>\n",
       "      <td>8554873</td>\n",
       "      <td>'''National Council of Teachers''' may refer t...</td>\n",
       "    </tr>\n",
       "    <tr>\n",
       "      <td>4</td>\n",
       "      <td>Shuo Wang</td>\n",
       "      <td>8554878</td>\n",
       "      <td>#REDIRECT [[Wang Shuo]]</td>\n",
       "    </tr>\n",
       "    <tr>\n",
       "      <td>5</td>\n",
       "      <td>The impractical joker garfield and friends</td>\n",
       "      <td>8554883</td>\n",
       "      <td>#REDIRECT [[List of Garfield and Friends episo...</td>\n",
       "    </tr>\n",
       "    <tr>\n",
       "      <td>6</td>\n",
       "      <td>Order of battle at Beiping–Tianjin</td>\n",
       "      <td>8554884</td>\n",
       "      <td>'''Peiking Tientsin Operation''' (July–August ...</td>\n",
       "    </tr>\n",
       "    <tr>\n",
       "      <td>7</td>\n",
       "      <td>Gulshani</td>\n",
       "      <td>8554885</td>\n",
       "      <td>{{about|the Sufi order|the demonym of Gulshan|...</td>\n",
       "    </tr>\n",
       "    <tr>\n",
       "      <td>8</td>\n",
       "      <td>The impractical joker garfield &amp; friends</td>\n",
       "      <td>8554892</td>\n",
       "      <td>#REDIRECT [[List of Garfield and Friends episo...</td>\n",
       "    </tr>\n",
       "    <tr>\n",
       "      <td>9</td>\n",
       "      <td>The impractical joker garfield</td>\n",
       "      <td>8554898</td>\n",
       "      <td>#REDIRECT [[List of Garfield and Friends episo...</td>\n",
       "    </tr>\n",
       "  </tbody>\n",
       "</table>\n",
       "</div>"
      ],
      "text/plain": [
       "                                        Title       ID  \\\n",
       "0                Chestnut Ridge Middle School  8554860   \n",
       "1         Colegio de Santa Cruz de Tlatelolco  8554864   \n",
       "2                Impractical joker (garfield)  8554867   \n",
       "3                National Council of Teachers  8554873   \n",
       "4                                   Shuo Wang  8554878   \n",
       "5  The impractical joker garfield and friends  8554883   \n",
       "6          Order of battle at Beiping–Tianjin  8554884   \n",
       "7                                    Gulshani  8554885   \n",
       "8    The impractical joker garfield & friends  8554892   \n",
       "9              The impractical joker garfield  8554898   \n",
       "\n",
       "                                                Text  \n",
       "0  #REDIRECT[[Washington Township Public School D...  \n",
       "1  {{Infobox university\\n|name              = Col...  \n",
       "2  #REDIRECT [[List of Garfield and Friends episo...  \n",
       "3  '''National Council of Teachers''' may refer t...  \n",
       "4                            #REDIRECT [[Wang Shuo]]  \n",
       "5  #REDIRECT [[List of Garfield and Friends episo...  \n",
       "6  '''Peiking Tientsin Operation''' (July–August ...  \n",
       "7  {{about|the Sufi order|the demonym of Gulshan|...  \n",
       "8  #REDIRECT [[List of Garfield and Friends episo...  \n",
       "9  #REDIRECT [[List of Garfield and Friends episo...  "
      ]
     },
     "execution_count": 3,
     "metadata": {},
     "output_type": "execute_result"
    }
   ],
   "source": [
    "drop_lines = 'Portal|File|Category|JPG|PNG|jpg|Wikipedia|Template'\n",
    "dataframe = dataframe[~dataframe.Title.str.contains(drop_lines)]\n",
    "dataframe = dataframe.dropna().reset_index()\n",
    "del dataframe['index']\n",
    "dataframe.head(10)"
   ]
  },
  {
   "cell_type": "markdown",
   "metadata": {},
   "source": [
    "## Request of the user (deal with incorrect wiki page) "
   ]
  },
  {
   "cell_type": "code",
   "execution_count": 4,
   "metadata": {},
   "outputs": [],
   "source": [
    "def ask_user():\n",
    "    request = str(input(\"Please enter a Wikipedia page name: \"))\n",
    "    return request\n",
    "\n",
    "\n",
    "def propose_pages(request, titles):\n",
    "    # Preprocessing for request\n",
    "    list_results = []\n",
    "    request = nltk.word_tokenize(request)\n",
    "    request = [x.lower() for x in request]\n",
    "    request = [word for word in request if word not in stopwords]\n",
    "    if len(request) > 1:\n",
    "        request = [lemmatizer.lemmatize(w) for w in request]\n",
    "    else:\n",
    "        request = lemmatizer.lemmatize(request[0])\n",
    "    for el in titles:\n",
    "        el_2 = el.lower()\n",
    "        el_2 = nltk.word_tokenize(el_2)\n",
    "        el_2 = ' '.join([lemmatizer.lemmatize(w) for w in el_2])\n",
    "        if type(request) == list:\n",
    "            for i in request:\n",
    "                if i in el_2:\n",
    "                    list_results.append(el)\n",
    "        else:\n",
    "            if request in el_2:\n",
    "                list_results.append(el)\n",
    "    return list_results[:10]\n",
    "    \n",
    "    \n",
    "def check_validity(dataframe):\n",
    "    request = ask_user()\n",
    "    while request != 'exit':\n",
    "        if type(request) == str: \n",
    "            if request in dataframe['Title'].values:\n",
    "                print(\"Correct Wikipedia page name, we will propose you 10 related pages!\")\n",
    "                break\n",
    "            else:\n",
    "                if len(request) != 0:\n",
    "                    results = propose_pages(request, dataframe['Title'])\n",
    "                    print('\\nIncorrect Wikipedia page, please retry!\\n')\n",
    "                    if len(results) > 0:\n",
    "                        print('Some suggestions :) \\n')\n",
    "                        for i,j in enumerate(results):\n",
    "                            print(str(i)+'. '+j)\n",
    "                    request = ask_user()"
   ]
  },
  {
   "cell_type": "code",
   "execution_count": 5,
   "metadata": {},
   "outputs": [
    {
     "name": "stdout",
     "output_type": "stream",
     "text": [
      "Please enter a Wikipedia page name: santa\n",
      "\n",
      "Incorrect Wikipedia page, please retry!\n",
      "\n",
      "Some suggestions :) \n",
      "\n",
      "0. Colegio de Santa Cruz de Tlatelolco\n",
      "1. North Santander Department\n",
      "2. Bernardo Santareno\n",
      "3. Santa Clara Aqueduct\n",
      "4. Ibarlucea, Santa Fe\n",
      "5. Zavalla, Santa Fe\n",
      "6. Abel Santa Cruz\n",
      "7. Santa Claus on film\n",
      "8. The Town Santa Forgot\n",
      "9. Santa claus conquers the aliens\n",
      "Please enter a Wikipedia page name: National Council of Teachers\n",
      "Correct Wikipedia page name, we will propose you 10 related pages!\n"
     ]
    }
   ],
   "source": [
    "check_validity(dataframe)"
   ]
  }
 ],
 "metadata": {
  "kernelspec": {
   "display_name": "Python 3",
   "language": "python",
   "name": "python3"
  },
  "language_info": {
   "codemirror_mode": {
    "name": "ipython",
    "version": 3
   },
   "file_extension": ".py",
   "mimetype": "text/x-python",
   "name": "python",
   "nbconvert_exporter": "python",
   "pygments_lexer": "ipython3",
   "version": "3.8.5"
  }
 },
 "nbformat": 4,
 "nbformat_minor": 2
}
